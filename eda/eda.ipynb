{
 "cells": [
  {
   "cell_type": "code",
   "execution_count": 1,
   "metadata": {},
   "outputs": [],
   "source": [
    "import pandas as pd\n",
    "import numpy as np\n",
    "import matplotlib.pyplot as plt"
   ]
  },
  {
   "cell_type": "code",
   "execution_count": 2,
   "metadata": {},
   "outputs": [
    {
     "name": "stderr",
     "output_type": "stream",
     "text": [
      "/tmp/ipykernel_6800/1079975619.py:2: DtypeWarning: Columns (5,7) have mixed types. Specify dtype option on import or set low_memory=False.\n",
      "  data = pd.read_csv(DATA_PATH)\n"
     ]
    }
   ],
   "source": [
    "DATA_PATH = '../dataset/r_dataisbeautiful_posts.csv'\n",
    "data = pd.read_csv(DATA_PATH)"
   ]
  },
  {
   "cell_type": "code",
   "execution_count": 3,
   "metadata": {},
   "outputs": [
    {
     "data": {
      "text/plain": [
       "'it7yz2'"
      ]
     },
     "execution_count": 3,
     "metadata": {},
     "output_type": "execute_result"
    }
   ],
   "source": [
    "data.iloc[0]['id']"
   ]
  },
  {
   "cell_type": "code",
   "execution_count": 4,
   "metadata": {},
   "outputs": [
    {
     "data": {
      "text/html": [
       "<div>\n",
       "<style scoped>\n",
       "    .dataframe tbody tr th:only-of-type {\n",
       "        vertical-align: middle;\n",
       "    }\n",
       "\n",
       "    .dataframe tbody tr th {\n",
       "        vertical-align: top;\n",
       "    }\n",
       "\n",
       "    .dataframe thead th {\n",
       "        text-align: right;\n",
       "    }\n",
       "</style>\n",
       "<table border=\"1\" class=\"dataframe\">\n",
       "  <thead>\n",
       "    <tr style=\"text-align: right;\">\n",
       "      <th></th>\n",
       "      <th>id</th>\n",
       "      <th>title</th>\n",
       "      <th>score</th>\n",
       "      <th>author</th>\n",
       "      <th>author_flair_text</th>\n",
       "      <th>removed_by</th>\n",
       "      <th>total_awards_received</th>\n",
       "      <th>awarders</th>\n",
       "      <th>created_utc</th>\n",
       "      <th>full_link</th>\n",
       "      <th>num_comments</th>\n",
       "      <th>over_18</th>\n",
       "    </tr>\n",
       "  </thead>\n",
       "  <tbody>\n",
       "    <tr>\n",
       "      <th>0</th>\n",
       "      <td>it7yz2</td>\n",
       "      <td>[OC] The World’s Forests Mapped</td>\n",
       "      <td>1</td>\n",
       "      <td>vividmaps</td>\n",
       "      <td>NaN</td>\n",
       "      <td>NaN</td>\n",
       "      <td>0.0</td>\n",
       "      <td>[]</td>\n",
       "      <td>1600173678</td>\n",
       "      <td>https://www.reddit.com/r/dataisbeautiful/comme...</td>\n",
       "      <td>1</td>\n",
       "      <td>False</td>\n",
       "    </tr>\n",
       "    <tr>\n",
       "      <th>1</th>\n",
       "      <td>it7uig</td>\n",
       "      <td>[OC] Airbnb presence mapped in Barcelona (BCN)...</td>\n",
       "      <td>1</td>\n",
       "      <td>JonnieNeptune</td>\n",
       "      <td>OC: 2</td>\n",
       "      <td>NaN</td>\n",
       "      <td>0.0</td>\n",
       "      <td>[]</td>\n",
       "      <td>1600173208</td>\n",
       "      <td>https://www.reddit.com/r/dataisbeautiful/comme...</td>\n",
       "      <td>0</td>\n",
       "      <td>False</td>\n",
       "    </tr>\n",
       "    <tr>\n",
       "      <th>2</th>\n",
       "      <td>it7t4z</td>\n",
       "      <td>A marketplace for open streaming data sources</td>\n",
       "      <td>1</td>\n",
       "      <td>DangerMouse289</td>\n",
       "      <td>NaN</td>\n",
       "      <td>automod_filtered</td>\n",
       "      <td>0.0</td>\n",
       "      <td>[]</td>\n",
       "      <td>1600173075</td>\n",
       "      <td>https://www.reddit.com/r/dataisbeautiful/comme...</td>\n",
       "      <td>0</td>\n",
       "      <td>False</td>\n",
       "    </tr>\n",
       "    <tr>\n",
       "      <th>3</th>\n",
       "      <td>it7jfq</td>\n",
       "      <td>[OC] Black Owner-Occupied Housing</td>\n",
       "      <td>1</td>\n",
       "      <td>SocialExplorerInc</td>\n",
       "      <td>OC: 17</td>\n",
       "      <td>NaN</td>\n",
       "      <td>0.0</td>\n",
       "      <td>[]</td>\n",
       "      <td>1600172010</td>\n",
       "      <td>https://www.reddit.com/r/dataisbeautiful/comme...</td>\n",
       "      <td>1</td>\n",
       "      <td>False</td>\n",
       "    </tr>\n",
       "    <tr>\n",
       "      <th>4</th>\n",
       "      <td>it7a3r</td>\n",
       "      <td>[OC] My monthly average steps in 2020. Quarant...</td>\n",
       "      <td>1</td>\n",
       "      <td>ahmedgelemli</td>\n",
       "      <td>OC: 2</td>\n",
       "      <td>NaN</td>\n",
       "      <td>0.0</td>\n",
       "      <td>[]</td>\n",
       "      <td>1600171002</td>\n",
       "      <td>https://www.reddit.com/r/dataisbeautiful/comme...</td>\n",
       "      <td>0</td>\n",
       "      <td>False</td>\n",
       "    </tr>\n",
       "  </tbody>\n",
       "</table>\n",
       "</div>"
      ],
      "text/plain": [
       "       id                                              title  score  \\\n",
       "0  it7yz2                    [OC] The World’s Forests Mapped      1   \n",
       "1  it7uig  [OC] Airbnb presence mapped in Barcelona (BCN)...      1   \n",
       "2  it7t4z      A marketplace for open streaming data sources      1   \n",
       "3  it7jfq                  [OC] Black Owner-Occupied Housing      1   \n",
       "4  it7a3r  [OC] My monthly average steps in 2020. Quarant...      1   \n",
       "\n",
       "              author author_flair_text        removed_by  \\\n",
       "0          vividmaps               NaN               NaN   \n",
       "1      JonnieNeptune             OC: 2               NaN   \n",
       "2     DangerMouse289               NaN  automod_filtered   \n",
       "3  SocialExplorerInc            OC: 17               NaN   \n",
       "4       ahmedgelemli             OC: 2               NaN   \n",
       "\n",
       "   total_awards_received awarders  created_utc  \\\n",
       "0                    0.0       []   1600173678   \n",
       "1                    0.0       []   1600173208   \n",
       "2                    0.0       []   1600173075   \n",
       "3                    0.0       []   1600172010   \n",
       "4                    0.0       []   1600171002   \n",
       "\n",
       "                                           full_link  num_comments  over_18  \n",
       "0  https://www.reddit.com/r/dataisbeautiful/comme...             1    False  \n",
       "1  https://www.reddit.com/r/dataisbeautiful/comme...             0    False  \n",
       "2  https://www.reddit.com/r/dataisbeautiful/comme...             0    False  \n",
       "3  https://www.reddit.com/r/dataisbeautiful/comme...             1    False  \n",
       "4  https://www.reddit.com/r/dataisbeautiful/comme...             0    False  "
      ]
     },
     "execution_count": 4,
     "metadata": {},
     "output_type": "execute_result"
    }
   ],
   "source": [
    "data.head()"
   ]
  },
  {
   "cell_type": "code",
   "execution_count": 5,
   "metadata": {},
   "outputs": [
    {
     "data": {
      "image/png": "[encoded data removed]",
      "text/plain": [
       "<Figure size 640x480 with 1 Axes>"
      ]
     },
     "metadata": {},
     "output_type": "display_data"
    }
   ],
   "source": [
    "# Data imbalance\n",
    "fig, ax = plt.subplots()\n",
    "total_accept, total_reject = data['over_18'].value_counts()\n",
    "\n",
    "ax.bar(['accept', 'reject'], [total_accept, total_reject])\n",
    "ax.set_ylabel('number of data')\n",
    "ax.set_title('Count number of accept - reject')\n",
    "plt.show()"
   ]
  },
  {
   "cell_type": "code",
   "execution_count": 8,
   "metadata": {},
   "outputs": [],
   "source": [
    "#split train_val\n",
    "ids = data[['id', 'over_18']]"
   ]
  },
  {
   "cell_type": "code",
   "execution_count": 10,
   "metadata": {},
   "outputs": [
    {
     "data": {
      "text/plain": [
       "False    192094\n",
       "True        997\n",
       "Name: over_18, dtype: int64"
      ]
     },
     "execution_count": 10,
     "metadata": {},
     "output_type": "execute_result"
    }
   ],
   "source": [
    "ids['over_18'].value_counts()"
   ]
  },
  {
   "cell_type": "code",
   "execution_count": 12,
   "metadata": {},
   "outputs": [],
   "source": [
    "N_VAL = 200"
   ]
  },
  {
   "cell_type": "code",
   "execution_count": 48,
   "metadata": {},
   "outputs": [],
   "source": [
    "val_list = [data[data['over_18'] == False].reset_index().loc[:N_VAL], data[data['over_18'] == True].reset_index().loc[:N_VAL]]\n",
    "train_list = [data[data['over_18'] == False].reset_index().loc[N_VAL:], data[data['over_18'] == True].reset_index().loc[N_VAL:]]"
   ]
  },
  {
   "cell_type": "code",
   "execution_count": 49,
   "metadata": {},
   "outputs": [],
   "source": [
    "val_df = pd.concat(val_list)\n",
    "train_df = pd.concat(train_list)"
   ]
  },
  {
   "cell_type": "code",
   "execution_count": 50,
   "metadata": {},
   "outputs": [
    {
     "data": {
      "text/plain": [
       "False    191894\n",
       "True        797\n",
       "Name: over_18, dtype: int64"
      ]
     },
     "execution_count": 50,
     "metadata": {},
     "output_type": "execute_result"
    }
   ],
   "source": [
    "train_df['over_18'].value_counts()"
   ]
  },
  {
   "cell_type": "code",
   "execution_count": 43,
   "metadata": {},
   "outputs": [
    {
     "data": {
      "text/plain": [
       "False    201\n",
       "True     201\n",
       "Name: over_18, dtype: int64"
      ]
     },
     "execution_count": 43,
     "metadata": {},
     "output_type": "execute_result"
    }
   ],
   "source": [
    "val_df['over_18'].value_counts()"
   ]
  },
  {
   "cell_type": "code",
   "execution_count": 51,
   "metadata": {},
   "outputs": [],
   "source": [
    "val_df.to_csv('../dataset/val.csv')\n",
    "train_df.to_csv('../dataset/train.csv')"
   ]
  },
  {
   "cell_type": "code",
   "execution_count": 53,
   "metadata": {},
   "outputs": [
    {
     "data": {
      "text/html": [
       "<div>\n",
       "<style scoped>\n",
       "    .dataframe tbody tr th:only-of-type {\n",
       "        vertical-align: middle;\n",
       "    }\n",
       "\n",
       "    .dataframe tbody tr th {\n",
       "        vertical-align: top;\n",
       "    }\n",
       "\n",
       "    .dataframe thead th {\n",
       "        text-align: right;\n",
       "    }\n",
       "</style>\n",
       "<table border=\"1\" class=\"dataframe\">\n",
       "  <thead>\n",
       "    <tr style=\"text-align: right;\">\n",
       "      <th></th>\n",
       "      <th>index</th>\n",
       "      <th>id</th>\n",
       "      <th>title</th>\n",
       "      <th>score</th>\n",
       "      <th>author</th>\n",
       "      <th>author_flair_text</th>\n",
       "      <th>removed_by</th>\n",
       "      <th>total_awards_received</th>\n",
       "      <th>awarders</th>\n",
       "      <th>created_utc</th>\n",
       "      <th>full_link</th>\n",
       "      <th>num_comments</th>\n",
       "      <th>over_18</th>\n",
       "    </tr>\n",
       "  </thead>\n",
       "  <tbody>\n",
       "    <tr>\n",
       "      <th>0</th>\n",
       "      <td>75</td>\n",
       "      <td>isp1c9</td>\n",
       "      <td>FonePaw iPhone Data Recovery 7.8.0 Crack Regis...</td>\n",
       "      <td>1</td>\n",
       "      <td>richahashmi128</td>\n",
       "      <td>NaN</td>\n",
       "      <td>reddit</td>\n",
       "      <td>0.0</td>\n",
       "      <td>[]</td>\n",
       "      <td>1600102985</td>\n",
       "      <td>https://www.reddit.com/r/dataisbeautiful/comme...</td>\n",
       "      <td>0</td>\n",
       "      <td>True</td>\n",
       "    </tr>\n",
       "    <tr>\n",
       "      <th>1</th>\n",
       "      <td>107</td>\n",
       "      <td>isjfs2</td>\n",
       "      <td>Sluts</td>\n",
       "      <td>0</td>\n",
       "      <td>International-Lime84</td>\n",
       "      <td>NaN</td>\n",
       "      <td>moderator</td>\n",
       "      <td>0.0</td>\n",
       "      <td>[]</td>\n",
       "      <td>1600084577</td>\n",
       "      <td>https://www.reddit.com/r/dataisbeautiful/comme...</td>\n",
       "      <td>3</td>\n",
       "      <td>True</td>\n",
       "    </tr>\n",
       "    <tr>\n",
       "      <th>2</th>\n",
       "      <td>195</td>\n",
       "      <td>iry7ro</td>\n",
       "      <td>Data is beautiful</td>\n",
       "      <td>1</td>\n",
       "      <td>Environmental_Pay_92</td>\n",
       "      <td>NaN</td>\n",
       "      <td>moderator</td>\n",
       "      <td>0.0</td>\n",
       "      <td>[]</td>\n",
       "      <td>1600003467</td>\n",
       "      <td>https://www.reddit.com/r/dataisbeautiful/comme...</td>\n",
       "      <td>0</td>\n",
       "      <td>True</td>\n",
       "    </tr>\n",
       "    <tr>\n",
       "      <th>3</th>\n",
       "      <td>324</td>\n",
       "      <td>ir6x3d</td>\n",
       "      <td>I entered a horrible, racist phrase into the G...</td>\n",
       "      <td>1</td>\n",
       "      <td>OhSoYouWannaPlayHuh</td>\n",
       "      <td>NaN</td>\n",
       "      <td>moderator</td>\n",
       "      <td>0.0</td>\n",
       "      <td>[]</td>\n",
       "      <td>1599888829</td>\n",
       "      <td>https://www.reddit.com/r/dataisbeautiful/comme...</td>\n",
       "      <td>2</td>\n",
       "      <td>True</td>\n",
       "    </tr>\n",
       "    <tr>\n",
       "      <th>4</th>\n",
       "      <td>382</td>\n",
       "      <td>iqocgw</td>\n",
       "      <td>Stellar Data Recovery Professional Crack 10.0....</td>\n",
       "      <td>1</td>\n",
       "      <td>licensecrack</td>\n",
       "      <td>NaN</td>\n",
       "      <td>reddit</td>\n",
       "      <td>0.0</td>\n",
       "      <td>[]</td>\n",
       "      <td>1599822172</td>\n",
       "      <td>https://www.reddit.com/r/dataisbeautiful/comme...</td>\n",
       "      <td>0</td>\n",
       "      <td>True</td>\n",
       "    </tr>\n",
       "    <tr>\n",
       "      <th>...</th>\n",
       "      <td>...</td>\n",
       "      <td>...</td>\n",
       "      <td>...</td>\n",
       "      <td>...</td>\n",
       "      <td>...</td>\n",
       "      <td>...</td>\n",
       "      <td>...</td>\n",
       "      <td>...</td>\n",
       "      <td>...</td>\n",
       "      <td>...</td>\n",
       "      <td>...</td>\n",
       "      <td>...</td>\n",
       "      <td>...</td>\n",
       "    </tr>\n",
       "    <tr>\n",
       "      <th>196</th>\n",
       "      <td>35861</td>\n",
       "      <td>ebitb8</td>\n",
       "      <td>Averaged aesthetics: an average of 53631 NSFW ...</td>\n",
       "      <td>1</td>\n",
       "      <td>SlothFacts101</td>\n",
       "      <td>NaN</td>\n",
       "      <td>moderator</td>\n",
       "      <td>0.0</td>\n",
       "      <td>[]</td>\n",
       "      <td>1576520149</td>\n",
       "      <td>https://www.reddit.com/r/dataisbeautiful/comme...</td>\n",
       "      <td>2</td>\n",
       "      <td>True</td>\n",
       "    </tr>\n",
       "    <tr>\n",
       "      <th>197</th>\n",
       "      <td>35889</td>\n",
       "      <td>ebewaj</td>\n",
       "      <td>[OC] [NSFW] User rating Vs views for my storie...</td>\n",
       "      <td>1</td>\n",
       "      <td>Migratory_Swallow</td>\n",
       "      <td>NaN</td>\n",
       "      <td>NaN</td>\n",
       "      <td>0.0</td>\n",
       "      <td>[]</td>\n",
       "      <td>1576501533</td>\n",
       "      <td>https://www.reddit.com/r/dataisbeautiful/comme...</td>\n",
       "      <td>3</td>\n",
       "      <td>True</td>\n",
       "    </tr>\n",
       "    <tr>\n",
       "      <th>198</th>\n",
       "      <td>35981</td>\n",
       "      <td>eaxxdm</td>\n",
       "      <td>Brands With Best-Selling Video Game Consoles 1...</td>\n",
       "      <td>1</td>\n",
       "      <td>su9skeng</td>\n",
       "      <td>NaN</td>\n",
       "      <td>NaN</td>\n",
       "      <td>0.0</td>\n",
       "      <td>[]</td>\n",
       "      <td>1576409193</td>\n",
       "      <td>https://www.reddit.com/r/dataisbeautiful/comme...</td>\n",
       "      <td>1</td>\n",
       "      <td>True</td>\n",
       "    </tr>\n",
       "    <tr>\n",
       "      <th>199</th>\n",
       "      <td>36107</td>\n",
       "      <td>ead11h</td>\n",
       "      <td>Average values for erect and flaccid penis len...</td>\n",
       "      <td>1</td>\n",
       "      <td>hd189</td>\n",
       "      <td>OC: 1</td>\n",
       "      <td>NaN</td>\n",
       "      <td>0.0</td>\n",
       "      <td>[]</td>\n",
       "      <td>1576285776</td>\n",
       "      <td>https://www.reddit.com/r/dataisbeautiful/comme...</td>\n",
       "      <td>58</td>\n",
       "      <td>True</td>\n",
       "    </tr>\n",
       "    <tr>\n",
       "      <th>200</th>\n",
       "      <td>36160</td>\n",
       "      <td>ea6gad</td>\n",
       "      <td>Pornhub 2019 Year in Review</td>\n",
       "      <td>1</td>\n",
       "      <td>PotatoPC001</td>\n",
       "      <td>NaN</td>\n",
       "      <td>moderator</td>\n",
       "      <td>0.0</td>\n",
       "      <td>[]</td>\n",
       "      <td>1576255790</td>\n",
       "      <td>https://www.reddit.com/r/dataisbeautiful/comme...</td>\n",
       "      <td>2</td>\n",
       "      <td>True</td>\n",
       "    </tr>\n",
       "  </tbody>\n",
       "</table>\n",
       "<p>201 rows × 13 columns</p>\n",
       "</div>"
      ],
      "text/plain": [
       "     index      id                                              title  score  \\\n",
       "0       75  isp1c9  FonePaw iPhone Data Recovery 7.8.0 Crack Regis...      1   \n",
       "1      107  isjfs2                                              Sluts      0   \n",
       "2      195  iry7ro                                  Data is beautiful      1   \n",
       "3      324  ir6x3d  I entered a horrible, racist phrase into the G...      1   \n",
       "4      382  iqocgw  Stellar Data Recovery Professional Crack 10.0....      1   \n",
       "..     ...     ...                                                ...    ...   \n",
       "196  35861  ebitb8  Averaged aesthetics: an average of 53631 NSFW ...      1   \n",
       "197  35889  ebewaj  [OC] [NSFW] User rating Vs views for my storie...      1   \n",
       "198  35981  eaxxdm  Brands With Best-Selling Video Game Consoles 1...      1   \n",
       "199  36107  ead11h  Average values for erect and flaccid penis len...      1   \n",
       "200  36160  ea6gad                        Pornhub 2019 Year in Review      1   \n",
       "\n",
       "                   author author_flair_text removed_by  total_awards_received  \\\n",
       "0          richahashmi128               NaN     reddit                    0.0   \n",
       "1    International-Lime84               NaN  moderator                    0.0   \n",
       "2    Environmental_Pay_92               NaN  moderator                    0.0   \n",
       "3     OhSoYouWannaPlayHuh               NaN  moderator                    0.0   \n",
       "4            licensecrack               NaN     reddit                    0.0   \n",
       "..                    ...               ...        ...                    ...   \n",
       "196         SlothFacts101               NaN  moderator                    0.0   \n",
       "197     Migratory_Swallow               NaN        NaN                    0.0   \n",
       "198              su9skeng               NaN        NaN                    0.0   \n",
       "199                 hd189             OC: 1        NaN                    0.0   \n",
       "200           PotatoPC001               NaN  moderator                    0.0   \n",
       "\n",
       "    awarders  created_utc                                          full_link  \\\n",
       "0         []   1600102985  https://www.reddit.com/r/dataisbeautiful/comme...   \n",
       "1         []   1600084577  https://www.reddit.com/r/dataisbeautiful/comme...   \n",
       "2         []   1600003467  https://www.reddit.com/r/dataisbeautiful/comme...   \n",
       "3         []   1599888829  https://www.reddit.com/r/dataisbeautiful/comme...   \n",
       "4         []   1599822172  https://www.reddit.com/r/dataisbeautiful/comme...   \n",
       "..       ...          ...                                                ...   \n",
       "196       []   1576520149  https://www.reddit.com/r/dataisbeautiful/comme...   \n",
       "197       []   1576501533  https://www.reddit.com/r/dataisbeautiful/comme...   \n",
       "198       []   1576409193  https://www.reddit.com/r/dataisbeautiful/comme...   \n",
       "199       []   1576285776  https://www.reddit.com/r/dataisbeautiful/comme...   \n",
       "200       []   1576255790  https://www.reddit.com/r/dataisbeautiful/comme...   \n",
       "\n",
       "     num_comments  over_18  \n",
       "0               0     True  \n",
       "1               3     True  \n",
       "2               0     True  \n",
       "3               2     True  \n",
       "4               0     True  \n",
       "..            ...      ...  \n",
       "196             2     True  \n",
       "197             3     True  \n",
       "198             1     True  \n",
       "199            58     True  \n",
       "200             2     True  \n",
       "\n",
       "[201 rows x 13 columns]"
      ]
     },
     "execution_count": 53,
     "metadata": {},
     "output_type": "execute_result"
    }
   ],
   "source": [
    "val_df[val_df['over_18'] == True]"
   ]
  }
 ],
 "metadata": {
  "kernelspec": {
   "display_name": "base",
   "language": "python",
   "name": "python3"
  },
  "language_info": {
   "codemirror_mode": {
    "name": "ipython",
    "version": 3
   },
   "file_extension": ".py",
   "mimetype": "text/x-python",
   "name": "python",
   "nbconvert_exporter": "python",
   "pygments_lexer": "ipython3",
   "version": "3.10.9"
  },
  "orig_nbformat": 4
 },
 "nbformat": 4,
 "nbformat_minor": 2
}
